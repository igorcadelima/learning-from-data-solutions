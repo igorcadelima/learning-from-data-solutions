{
 "cells": [
  {
   "cell_type": "markdown",
   "metadata": {},
   "source": [
    "# Chapter 1 - Exercises"
   ]
  },
  {
   "cell_type": "markdown",
   "metadata": {},
   "source": [
    "### Exercise 1.1"
   ]
  },
  {
   "cell_type": "markdown",
   "metadata": {},
   "source": [
    "Express each of the following tasks in the framework of learning from data by specifying the input space $X$, output space $Y$, target function $f : X \\rightarrow Y$, and the specifics of the data set that we will learn from."
   ]
  },
  {
   "cell_type": "markdown",
   "metadata": {},
   "source": [
    "(a) Medical diagnosis: A patient walks in with a medical history and some symptoms, and you want to identify the problem.\n",
    "\n",
    "_Solution: $X$ is the set of all possible medical histories and symptoms, $Y$ is the set of all medical diagnosis, and $f$ is the ideal medical diagnosis formula. Each medical history has personal information of the patient, such as age, home address, previous diagnoses, etc._"
   ]
  },
  {
   "cell_type": "markdown",
   "metadata": {},
   "source": [
    "(b) Handwritten digit recognition (for example postl zip code recognition for mail sorting).\n",
    "\n",
    "_Solution: $X$ is the set of all possible handwritten digits (0-9), $Y$ is the set of all possible digits (i.e., $\\{0,...,9\\}$), and $f$ is the ideal handwritten digit recognition formula that maps a handwritten digit to the corresponding digit._"
   ]
  },
  {
   "cell_type": "markdown",
   "metadata": {},
   "source": [
    "(c) Determining if an email is spam or not.\n",
    "\n",
    "_Solution: $X$ is th set of all possible emails, $Y$ is {spam, not spam}, and $f$ is the ideal formula that determines whether an email is spam._"
   ]
  },
  {
   "cell_type": "markdown",
   "metadata": {},
   "source": [
    "(d) Predicting how an electric load varies with price, temperature, and day of the week.\n",
    "\n",
    "_Solution: $X$ is the set of all possible combinations of energy consumption prices, temperature, and day of the week; $Y \\in \\mathbb{R}$ is the all possible electric load variation; and $f$ is the ideal formula that predict the electric load._"
   ]
  },
  {
   "cell_type": "markdown",
   "metadata": {},
   "source": [
    "(e) A problem of interest to you for which there is no analytic solution, but you have data from which to construct an empirical solution.\n",
    "\n",
    "_Solution: The problem is determining how much I would be interested in a job announced in a posting. $X$ is the set of all possible job postings; $Y$ is the interval $[0,1]$; and $f$ is the ideal formula that predicts how much I would be interested in a job given a posting._"
   ]
  }
 ],
 "metadata": {
  "kernelspec": {
   "display_name": "Python 3",
   "language": "python",
   "name": "python3"
  },
  "language_info": {
   "codemirror_mode": {
    "name": "ipython",
    "version": 3
   },
   "file_extension": ".py",
   "mimetype": "text/x-python",
   "name": "python",
   "nbconvert_exporter": "python",
   "pygments_lexer": "ipython3",
   "version": "3.6.3"
  }
 },
 "nbformat": 4,
 "nbformat_minor": 2
}
